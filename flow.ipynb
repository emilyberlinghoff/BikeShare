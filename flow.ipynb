{
  "nbformat": 4,
  "nbformat_minor": 0,
  "metadata": {
    "colab": {
      "provenance": [],
      "authorship_tag": "ABX9TyO5EkFMubNNzLhwk6cPjemx",
      "include_colab_link": true
    },
    "kernelspec": {
      "name": "python3",
      "display_name": "Python 3"
    },
    "language_info": {
      "name": "python"
    }
  },
  "cells": [
    {
      "cell_type": "markdown",
      "metadata": {
        "id": "view-in-github",
        "colab_type": "text"
      },
      "source": [
        "<a href=\"https://colab.research.google.com/github/emilyberlinghoff/BikeShare/blob/main/flow.ipynb\" target=\"_parent\"><img src=\"https://colab.research.google.com/assets/colab-badge.svg\" alt=\"Open In Colab\"/></a>"
      ]
    },
    {
      "cell_type": "code",
      "source": [
        "import pandas as pd\n",
        "from collections import defaultdict\n",
        "\n",
        "def add_running_inflow_outflow_flow(input_csv: str, output_csv: str) -> None:\n",
        "    \"\"\"\n",
        "    Reads a bike-share CSV (with columns including Start Station Id, End Station Id, Start Time, etc.),\n",
        "    sorts rows by Start Time, and processes each trip in chronological order to maintain a running tally.\n",
        "\n",
        "    For each row:\n",
        "      - Increment outflow for that row's start station by 1\n",
        "      - Increment inflow for that row's end station by 1\n",
        "\n",
        "    Then add four columns to show, as of that row/trip:\n",
        "      1) 'Total outflow of start station'\n",
        "      2) 'Total inflow of end station'\n",
        "      3) 'Total flow of start station' = inflow - outflow for the start station\n",
        "      4) 'Total flow of end station'   = inflow - outflow for the end station\n",
        "\n",
        "    Writes the updated DataFrame to output_csv.\n",
        "    \"\"\"\n",
        "\n",
        "    # Read the CSV\n",
        "    df = pd.read_csv(input_csv)\n",
        "\n",
        "    # Sort by Start Time (assumes it's a valid datetime or sortable string).\n",
        "    # Remove or adjust if you do not want chronological sorting.\n",
        "    df.sort_values(by=\"Start Time\", inplace=True)\n",
        "\n",
        "    # Dictionaries to track how many bikes have flowed in/out for each station\n",
        "    station_outflow = defaultdict(int)\n",
        "    station_inflow = defaultdict(int)\n",
        "\n",
        "    # We'll store these four columns per row in lists, then attach them to df\n",
        "    total_outflow_of_start_station_list = []\n",
        "    total_inflow_of_end_station_list = []\n",
        "    total_flow_of_start_station_list = []\n",
        "    total_flow_of_end_station_list = []\n",
        "\n",
        "    # Go row by row in chronological order\n",
        "    for _, row in df.iterrows():\n",
        "        start_id = row[\"Start Station Id\"]\n",
        "        end_id = row[\"End Station Id\"]\n",
        "\n",
        "        # This trip departs start station -> increment that station's outflow\n",
        "        station_outflow[start_id] += 1\n",
        "        # This trip arrives at end station -> increment that station's inflow\n",
        "        station_inflow[end_id] += 1\n",
        "\n",
        "        # Now record the cumulative totals for these two stations\n",
        "        outflow_of_start_station = station_outflow[start_id]\n",
        "        inflow_of_end_station = station_inflow[end_id]\n",
        "\n",
        "        # The total flow for a station is (inflow - outflow)\n",
        "        flow_of_start_station = station_inflow[start_id] - station_outflow[start_id]\n",
        "        flow_of_end_station = station_inflow[end_id] - station_outflow[end_id]\n",
        "\n",
        "        # Append these values for the row\n",
        "        total_outflow_of_start_station_list.append(outflow_of_start_station)\n",
        "        total_inflow_of_end_station_list.append(inflow_of_end_station)\n",
        "        total_flow_of_start_station_list.append(flow_of_start_station)\n",
        "        total_flow_of_end_station_list.append(flow_of_end_station)\n",
        "\n",
        "    # Attach the new columns\n",
        "    df[\"Total outflow of start station\"] = total_outflow_of_start_station_list\n",
        "    df[\"Total inflow of end station\"]   = total_inflow_of_end_station_list\n",
        "    df[\"Total flow of start station\"]   = total_flow_of_start_station_list\n",
        "    df[\"Total flow of end station\"]     = total_flow_of_end_station_list\n",
        "\n",
        "    # Write out to a new CSV\n",
        "    df.to_csv(output_csv, index=False)\n",
        "\n",
        "\n",
        "if __name__ == \"__main__\":\n",
        "    input_file = \"Bike share ridership 2024-01.csv\"\n",
        "    output_file = \"Flow 2024-01.csv\"\n",
        "    add_running_inflow_outflow_flow(input_file, output_file)\n",
        "    print(f\"Saved updated file with per-row inflow/outflow/flow columns to {output_file}\")"
      ],
      "metadata": {
        "colab": {
          "base_uri": "https://localhost:8080/"
        },
        "id": "xmprRMmG8udg",
        "outputId": "ab5671a8-80ea-44fa-a057-5708f8e3add4"
      },
      "execution_count": null,
      "outputs": [
        {
          "output_type": "stream",
          "name": "stdout",
          "text": [
            "Saved updated file with per-row inflow/outflow/flow columns to Flow 2024-01.csv\n"
          ]
        }
      ]
    }
  ]
}